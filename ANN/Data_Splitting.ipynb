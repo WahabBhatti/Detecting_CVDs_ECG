{
  "nbformat": 4,
  "nbformat_minor": 0,
  "metadata": {
    "colab": {
      "name": "Data_Splitting.ipynb",
      "provenance": [],
      "collapsed_sections": []
    },
    "kernelspec": {
      "name": "python3",
      "display_name": "Python 3"
    },
    "accelerator": "GPU"
  },
  "cells": [
    {
      "cell_type": "code",
      "metadata": {
        "id": "MJnM-MJcPc5t",
        "colab_type": "code",
        "colab": {}
      },
      "source": [
        "import pandas as pd\n",
        "import numpy as np\n",
        "from sklearn.model_selection import train_test_split"
      ],
      "execution_count": 0,
      "outputs": []
    },
    {
      "cell_type": "code",
      "metadata": {
        "id": "Ngq7xRSAQdqT",
        "colab_type": "code",
        "colab": {}
      },
      "source": [
        "AF=pd.read_csv('AF_csv_14972.csv')"
      ],
      "execution_count": 0,
      "outputs": []
    },
    {
      "cell_type": "code",
      "metadata": {
        "id": "EtiBPgT0Q_Md",
        "colab_type": "code",
        "outputId": "f57b2621-2f27-43c2-fd60-71dc3df4fdb5",
        "colab": {
          "base_uri": "https://localhost:8080/",
          "height": 345
        }
      },
      "source": [
        "AF.head()"
      ],
      "execution_count": 0,
      "outputs": [
        {
          "output_type": "execute_result",
          "data": {
            "text/html": [
              "<div>\n",
              "<style scoped>\n",
              "    .dataframe tbody tr th:only-of-type {\n",
              "        vertical-align: middle;\n",
              "    }\n",
              "\n",
              "    .dataframe tbody tr th {\n",
              "        vertical-align: top;\n",
              "    }\n",
              "\n",
              "    .dataframe thead th {\n",
              "        text-align: right;\n",
              "    }\n",
              "</style>\n",
              "<table border=\"1\" class=\"dataframe\">\n",
              "  <thead>\n",
              "    <tr style=\"text-align: right;\">\n",
              "      <th></th>\n",
              "      <th>Unnamed: 0</th>\n",
              "      <th>0</th>\n",
              "      <th>1</th>\n",
              "      <th>2</th>\n",
              "      <th>3</th>\n",
              "      <th>4</th>\n",
              "      <th>5</th>\n",
              "      <th>6</th>\n",
              "      <th>7</th>\n",
              "      <th>8</th>\n",
              "      <th>9</th>\n",
              "      <th>10</th>\n",
              "      <th>11</th>\n",
              "      <th>12</th>\n",
              "      <th>13</th>\n",
              "      <th>14</th>\n",
              "      <th>15</th>\n",
              "      <th>16</th>\n",
              "      <th>17</th>\n",
              "      <th>18</th>\n",
              "      <th>19</th>\n",
              "      <th>20</th>\n",
              "      <th>21</th>\n",
              "      <th>22</th>\n",
              "      <th>23</th>\n",
              "      <th>24</th>\n",
              "      <th>25</th>\n",
              "      <th>26</th>\n",
              "      <th>27</th>\n",
              "      <th>28</th>\n",
              "      <th>29</th>\n",
              "      <th>30</th>\n",
              "      <th>31</th>\n",
              "      <th>32</th>\n",
              "      <th>33</th>\n",
              "      <th>34</th>\n",
              "      <th>35</th>\n",
              "      <th>36</th>\n",
              "      <th>37</th>\n",
              "      <th>38</th>\n",
              "      <th>...</th>\n",
              "      <th>161</th>\n",
              "      <th>162</th>\n",
              "      <th>163</th>\n",
              "      <th>164</th>\n",
              "      <th>165</th>\n",
              "      <th>166</th>\n",
              "      <th>167</th>\n",
              "      <th>168</th>\n",
              "      <th>169</th>\n",
              "      <th>170</th>\n",
              "      <th>171</th>\n",
              "      <th>172</th>\n",
              "      <th>173</th>\n",
              "      <th>174</th>\n",
              "      <th>175</th>\n",
              "      <th>176</th>\n",
              "      <th>177</th>\n",
              "      <th>178</th>\n",
              "      <th>179</th>\n",
              "      <th>180</th>\n",
              "      <th>181</th>\n",
              "      <th>182</th>\n",
              "      <th>183</th>\n",
              "      <th>184</th>\n",
              "      <th>185</th>\n",
              "      <th>186</th>\n",
              "      <th>187</th>\n",
              "      <th>188</th>\n",
              "      <th>189</th>\n",
              "      <th>190</th>\n",
              "      <th>191</th>\n",
              "      <th>192</th>\n",
              "      <th>193</th>\n",
              "      <th>194</th>\n",
              "      <th>195</th>\n",
              "      <th>196</th>\n",
              "      <th>197</th>\n",
              "      <th>198</th>\n",
              "      <th>199</th>\n",
              "      <th>Lable</th>\n",
              "    </tr>\n",
              "  </thead>\n",
              "  <tbody>\n",
              "    <tr>\n",
              "      <th>0</th>\n",
              "      <td>0</td>\n",
              "      <td>4.360680e-08</td>\n",
              "      <td>6.410188e-07</td>\n",
              "      <td>0.000004</td>\n",
              "      <td>0.000019</td>\n",
              "      <td>0.000057</td>\n",
              "      <td>0.000124</td>\n",
              "      <td>0.000207</td>\n",
              "      <td>0.000269</td>\n",
              "      <td>0.000281</td>\n",
              "      <td>0.000252</td>\n",
              "      <td>0.000217</td>\n",
              "      <td>0.000188</td>\n",
              "      <td>0.000141</td>\n",
              "      <td>0.000056</td>\n",
              "      <td>-0.000034</td>\n",
              "      <td>-0.000082</td>\n",
              "      <td>-0.000083</td>\n",
              "      <td>-0.000078</td>\n",
              "      <td>-0.000103</td>\n",
              "      <td>-0.000147</td>\n",
              "      <td>-0.000173</td>\n",
              "      <td>-0.000158</td>\n",
              "      <td>-0.000116</td>\n",
              "      <td>-0.000070</td>\n",
              "      <td>-0.000022</td>\n",
              "      <td>0.000068</td>\n",
              "      <td>0.000274</td>\n",
              "      <td>0.000683</td>\n",
              "      <td>0.001335</td>\n",
              "      <td>0.002138</td>\n",
              "      <td>0.002793</td>\n",
              "      <td>0.002898</td>\n",
              "      <td>0.002243</td>\n",
              "      <td>0.001063</td>\n",
              "      <td>-0.000070</td>\n",
              "      <td>-0.000701</td>\n",
              "      <td>-0.000836</td>\n",
              "      <td>-0.000808</td>\n",
              "      <td>-0.000856</td>\n",
              "      <td>...</td>\n",
              "      <td>-0.000266</td>\n",
              "      <td>-0.000218</td>\n",
              "      <td>-0.000145</td>\n",
              "      <td>-0.000079</td>\n",
              "      <td>-0.000043</td>\n",
              "      <td>-0.000011</td>\n",
              "      <td>0.000053</td>\n",
              "      <td>0.000134</td>\n",
              "      <td>0.000189</td>\n",
              "      <td>0.000204</td>\n",
              "      <td>0.000199</td>\n",
              "      <td>0.000190</td>\n",
              "      <td>0.000169</td>\n",
              "      <td>0.000140</td>\n",
              "      <td>0.000132</td>\n",
              "      <td>0.000178</td>\n",
              "      <td>0.000292</td>\n",
              "      <td>0.000476</td>\n",
              "      <td>0.000770</td>\n",
              "      <td>0.001261</td>\n",
              "      <td>0.002005</td>\n",
              "      <td>0.002887</td>\n",
              "      <td>0.003540</td>\n",
              "      <td>3.520856e-03</td>\n",
              "      <td>0.002671</td>\n",
              "      <td>0.001340</td>\n",
              "      <td>0.000154</td>\n",
              "      <td>-0.000481</td>\n",
              "      <td>-0.000645</td>\n",
              "      <td>-0.000682</td>\n",
              "      <td>-0.000795</td>\n",
              "      <td>-0.000924</td>\n",
              "      <td>-0.000948</td>\n",
              "      <td>-0.000864</td>\n",
              "      <td>-0.000758</td>\n",
              "      <td>-0.000683</td>\n",
              "      <td>-0.000630</td>\n",
              "      <td>-0.000586</td>\n",
              "      <td>-0.000554</td>\n",
              "      <td>1</td>\n",
              "    </tr>\n",
              "    <tr>\n",
              "      <th>1</th>\n",
              "      <td>1</td>\n",
              "      <td>-9.809577e-08</td>\n",
              "      <td>-1.426375e-06</td>\n",
              "      <td>-0.000010</td>\n",
              "      <td>-0.000041</td>\n",
              "      <td>-0.000119</td>\n",
              "      <td>-0.000253</td>\n",
              "      <td>-0.000398</td>\n",
              "      <td>-0.000467</td>\n",
              "      <td>-0.000398</td>\n",
              "      <td>-0.000233</td>\n",
              "      <td>-0.000083</td>\n",
              "      <td>-0.000018</td>\n",
              "      <td>-0.000004</td>\n",
              "      <td>0.000016</td>\n",
              "      <td>0.000044</td>\n",
              "      <td>0.000045</td>\n",
              "      <td>0.000012</td>\n",
              "      <td>-0.000033</td>\n",
              "      <td>-0.000080</td>\n",
              "      <td>-0.000139</td>\n",
              "      <td>-0.000196</td>\n",
              "      <td>-0.000224</td>\n",
              "      <td>-0.000221</td>\n",
              "      <td>-0.000217</td>\n",
              "      <td>-0.000230</td>\n",
              "      <td>-0.000242</td>\n",
              "      <td>-0.000228</td>\n",
              "      <td>-0.000193</td>\n",
              "      <td>-0.000163</td>\n",
              "      <td>-0.000159</td>\n",
              "      <td>-0.000176</td>\n",
              "      <td>-0.000191</td>\n",
              "      <td>-0.000182</td>\n",
              "      <td>-0.000144</td>\n",
              "      <td>-0.000087</td>\n",
              "      <td>-0.000025</td>\n",
              "      <td>0.000034</td>\n",
              "      <td>0.000096</td>\n",
              "      <td>0.000178</td>\n",
              "      <td>...</td>\n",
              "      <td>-0.000123</td>\n",
              "      <td>-0.000092</td>\n",
              "      <td>-0.000012</td>\n",
              "      <td>0.000093</td>\n",
              "      <td>0.000173</td>\n",
              "      <td>0.000190</td>\n",
              "      <td>0.000153</td>\n",
              "      <td>0.000115</td>\n",
              "      <td>0.000122</td>\n",
              "      <td>0.000169</td>\n",
              "      <td>0.000205</td>\n",
              "      <td>0.000197</td>\n",
              "      <td>0.000170</td>\n",
              "      <td>0.000191</td>\n",
              "      <td>0.000316</td>\n",
              "      <td>0.000590</td>\n",
              "      <td>0.001059</td>\n",
              "      <td>0.001720</td>\n",
              "      <td>0.002397</td>\n",
              "      <td>0.002718</td>\n",
              "      <td>0.002352</td>\n",
              "      <td>0.001360</td>\n",
              "      <td>0.000263</td>\n",
              "      <td>-3.636713e-04</td>\n",
              "      <td>-0.000392</td>\n",
              "      <td>-0.000174</td>\n",
              "      <td>-0.000090</td>\n",
              "      <td>-0.000185</td>\n",
              "      <td>-0.000273</td>\n",
              "      <td>-0.000270</td>\n",
              "      <td>-0.000264</td>\n",
              "      <td>-0.000319</td>\n",
              "      <td>-0.000379</td>\n",
              "      <td>-0.000385</td>\n",
              "      <td>-0.000361</td>\n",
              "      <td>-0.000355</td>\n",
              "      <td>-0.000352</td>\n",
              "      <td>-0.000320</td>\n",
              "      <td>-0.000275</td>\n",
              "      <td>1</td>\n",
              "    </tr>\n",
              "    <tr>\n",
              "      <th>2</th>\n",
              "      <td>2</td>\n",
              "      <td>4.653737e-08</td>\n",
              "      <td>6.958202e-07</td>\n",
              "      <td>0.000005</td>\n",
              "      <td>0.000021</td>\n",
              "      <td>0.000065</td>\n",
              "      <td>0.000149</td>\n",
              "      <td>0.000260</td>\n",
              "      <td>0.000366</td>\n",
              "      <td>0.000438</td>\n",
              "      <td>0.000479</td>\n",
              "      <td>0.000510</td>\n",
              "      <td>0.000518</td>\n",
              "      <td>0.000462</td>\n",
              "      <td>0.000331</td>\n",
              "      <td>0.000191</td>\n",
              "      <td>0.000111</td>\n",
              "      <td>0.000085</td>\n",
              "      <td>0.000052</td>\n",
              "      <td>-0.000014</td>\n",
              "      <td>-0.000070</td>\n",
              "      <td>-0.000075</td>\n",
              "      <td>-0.000043</td>\n",
              "      <td>-0.000026</td>\n",
              "      <td>-0.000053</td>\n",
              "      <td>-0.000105</td>\n",
              "      <td>-0.000145</td>\n",
              "      <td>-0.000147</td>\n",
              "      <td>-0.000114</td>\n",
              "      <td>-0.000070</td>\n",
              "      <td>-0.000034</td>\n",
              "      <td>0.000006</td>\n",
              "      <td>0.000085</td>\n",
              "      <td>0.000236</td>\n",
              "      <td>0.000482</td>\n",
              "      <td>0.000862</td>\n",
              "      <td>0.001435</td>\n",
              "      <td>0.002197</td>\n",
              "      <td>0.002942</td>\n",
              "      <td>0.003255</td>\n",
              "      <td>...</td>\n",
              "      <td>-0.000841</td>\n",
              "      <td>-0.000786</td>\n",
              "      <td>-0.000730</td>\n",
              "      <td>-0.000709</td>\n",
              "      <td>-0.000679</td>\n",
              "      <td>-0.000617</td>\n",
              "      <td>-0.000564</td>\n",
              "      <td>-0.000552</td>\n",
              "      <td>-0.000559</td>\n",
              "      <td>-0.000558</td>\n",
              "      <td>-0.000555</td>\n",
              "      <td>-0.000559</td>\n",
              "      <td>-0.000552</td>\n",
              "      <td>-0.000509</td>\n",
              "      <td>-0.000436</td>\n",
              "      <td>-0.000353</td>\n",
              "      <td>-0.000265</td>\n",
              "      <td>-0.000165</td>\n",
              "      <td>-0.000060</td>\n",
              "      <td>0.000019</td>\n",
              "      <td>0.000055</td>\n",
              "      <td>0.000052</td>\n",
              "      <td>0.000031</td>\n",
              "      <td>4.271477e-07</td>\n",
              "      <td>-0.000042</td>\n",
              "      <td>-0.000099</td>\n",
              "      <td>-0.000165</td>\n",
              "      <td>-0.000220</td>\n",
              "      <td>-0.000253</td>\n",
              "      <td>-0.000267</td>\n",
              "      <td>-0.000283</td>\n",
              "      <td>-0.000310</td>\n",
              "      <td>-0.000331</td>\n",
              "      <td>-0.000325</td>\n",
              "      <td>-0.000300</td>\n",
              "      <td>-0.000283</td>\n",
              "      <td>-0.000288</td>\n",
              "      <td>-0.000293</td>\n",
              "      <td>-0.000261</td>\n",
              "      <td>1</td>\n",
              "    </tr>\n",
              "    <tr>\n",
              "      <th>3</th>\n",
              "      <td>3</td>\n",
              "      <td>-8.002395e-08</td>\n",
              "      <td>-1.164628e-06</td>\n",
              "      <td>-0.000008</td>\n",
              "      <td>-0.000033</td>\n",
              "      <td>-0.000096</td>\n",
              "      <td>-0.000196</td>\n",
              "      <td>-0.000267</td>\n",
              "      <td>-0.000168</td>\n",
              "      <td>0.000248</td>\n",
              "      <td>0.000976</td>\n",
              "      <td>0.001740</td>\n",
              "      <td>0.002079</td>\n",
              "      <td>0.001657</td>\n",
              "      <td>0.000600</td>\n",
              "      <td>-0.000512</td>\n",
              "      <td>-0.001094</td>\n",
              "      <td>-0.001060</td>\n",
              "      <td>-0.000832</td>\n",
              "      <td>-0.000812</td>\n",
              "      <td>-0.000975</td>\n",
              "      <td>-0.001038</td>\n",
              "      <td>-0.000886</td>\n",
              "      <td>-0.000681</td>\n",
              "      <td>-0.000580</td>\n",
              "      <td>-0.000550</td>\n",
              "      <td>-0.000497</td>\n",
              "      <td>-0.000424</td>\n",
              "      <td>-0.000385</td>\n",
              "      <td>-0.000374</td>\n",
              "      <td>-0.000345</td>\n",
              "      <td>-0.000299</td>\n",
              "      <td>-0.000276</td>\n",
              "      <td>-0.000285</td>\n",
              "      <td>-0.000293</td>\n",
              "      <td>-0.000275</td>\n",
              "      <td>-0.000241</td>\n",
              "      <td>-0.000203</td>\n",
              "      <td>-0.000160</td>\n",
              "      <td>-0.000110</td>\n",
              "      <td>...</td>\n",
              "      <td>-0.000517</td>\n",
              "      <td>-0.000480</td>\n",
              "      <td>-0.000514</td>\n",
              "      <td>-0.000525</td>\n",
              "      <td>-0.000485</td>\n",
              "      <td>-0.000452</td>\n",
              "      <td>-0.000449</td>\n",
              "      <td>-0.000433</td>\n",
              "      <td>-0.000374</td>\n",
              "      <td>-0.000290</td>\n",
              "      <td>-0.000205</td>\n",
              "      <td>-0.000119</td>\n",
              "      <td>-0.000035</td>\n",
              "      <td>0.000020</td>\n",
              "      <td>0.000033</td>\n",
              "      <td>0.000029</td>\n",
              "      <td>0.000038</td>\n",
              "      <td>0.000058</td>\n",
              "      <td>0.000063</td>\n",
              "      <td>0.000041</td>\n",
              "      <td>-0.000004</td>\n",
              "      <td>-0.000061</td>\n",
              "      <td>-0.000126</td>\n",
              "      <td>-1.902986e-04</td>\n",
              "      <td>-0.000253</td>\n",
              "      <td>-0.000320</td>\n",
              "      <td>-0.000389</td>\n",
              "      <td>-0.000436</td>\n",
              "      <td>-0.000438</td>\n",
              "      <td>-0.000398</td>\n",
              "      <td>-0.000352</td>\n",
              "      <td>-0.000331</td>\n",
              "      <td>-0.000334</td>\n",
              "      <td>-0.000347</td>\n",
              "      <td>-0.000366</td>\n",
              "      <td>-0.000392</td>\n",
              "      <td>-0.000418</td>\n",
              "      <td>-0.000420</td>\n",
              "      <td>-0.000380</td>\n",
              "      <td>1</td>\n",
              "    </tr>\n",
              "    <tr>\n",
              "      <th>4</th>\n",
              "      <td>4</td>\n",
              "      <td>-8.000442e-08</td>\n",
              "      <td>-1.183878e-06</td>\n",
              "      <td>-0.000008</td>\n",
              "      <td>-0.000036</td>\n",
              "      <td>-0.000107</td>\n",
              "      <td>-0.000239</td>\n",
              "      <td>-0.000406</td>\n",
              "      <td>-0.000536</td>\n",
              "      <td>-0.000564</td>\n",
              "      <td>-0.000494</td>\n",
              "      <td>-0.000395</td>\n",
              "      <td>-0.000324</td>\n",
              "      <td>-0.000284</td>\n",
              "      <td>-0.000259</td>\n",
              "      <td>-0.000257</td>\n",
              "      <td>-0.000282</td>\n",
              "      <td>-0.000300</td>\n",
              "      <td>-0.000266</td>\n",
              "      <td>-0.000187</td>\n",
              "      <td>-0.000096</td>\n",
              "      <td>0.000019</td>\n",
              "      <td>0.000241</td>\n",
              "      <td>0.000667</td>\n",
              "      <td>0.001332</td>\n",
              "      <td>0.002124</td>\n",
              "      <td>0.002733</td>\n",
              "      <td>0.002740</td>\n",
              "      <td>0.001955</td>\n",
              "      <td>0.000718</td>\n",
              "      <td>-0.000283</td>\n",
              "      <td>-0.000609</td>\n",
              "      <td>-0.000445</td>\n",
              "      <td>-0.000295</td>\n",
              "      <td>-0.000385</td>\n",
              "      <td>-0.000538</td>\n",
              "      <td>-0.000552</td>\n",
              "      <td>-0.000481</td>\n",
              "      <td>-0.000472</td>\n",
              "      <td>-0.000525</td>\n",
              "      <td>...</td>\n",
              "      <td>-0.000101</td>\n",
              "      <td>-0.000041</td>\n",
              "      <td>0.000025</td>\n",
              "      <td>0.000063</td>\n",
              "      <td>0.000062</td>\n",
              "      <td>0.000043</td>\n",
              "      <td>0.000021</td>\n",
              "      <td>-0.000016</td>\n",
              "      <td>-0.000085</td>\n",
              "      <td>-0.000179</td>\n",
              "      <td>-0.000259</td>\n",
              "      <td>-0.000294</td>\n",
              "      <td>-0.000280</td>\n",
              "      <td>-0.000242</td>\n",
              "      <td>-0.000217</td>\n",
              "      <td>-0.000223</td>\n",
              "      <td>-0.000247</td>\n",
              "      <td>-0.000257</td>\n",
              "      <td>-0.000236</td>\n",
              "      <td>-0.000204</td>\n",
              "      <td>-0.000182</td>\n",
              "      <td>-0.000168</td>\n",
              "      <td>-0.000139</td>\n",
              "      <td>-9.381355e-05</td>\n",
              "      <td>-0.000058</td>\n",
              "      <td>-0.000050</td>\n",
              "      <td>-0.000059</td>\n",
              "      <td>-0.000063</td>\n",
              "      <td>-0.000054</td>\n",
              "      <td>-0.000039</td>\n",
              "      <td>-0.000023</td>\n",
              "      <td>0.000001</td>\n",
              "      <td>0.000048</td>\n",
              "      <td>0.000149</td>\n",
              "      <td>0.000377</td>\n",
              "      <td>0.000833</td>\n",
              "      <td>0.001541</td>\n",
              "      <td>0.002297</td>\n",
              "      <td>0.002666</td>\n",
              "      <td>1</td>\n",
              "    </tr>\n",
              "  </tbody>\n",
              "</table>\n",
              "<p>5 rows × 202 columns</p>\n",
              "</div>"
            ],
            "text/plain": [
              "   Unnamed: 0             0             1  ...       198       199  Lable\n",
              "0           0  4.360680e-08  6.410188e-07  ... -0.000586 -0.000554      1\n",
              "1           1 -9.809577e-08 -1.426375e-06  ... -0.000320 -0.000275      1\n",
              "2           2  4.653737e-08  6.958202e-07  ... -0.000293 -0.000261      1\n",
              "3           3 -8.002395e-08 -1.164628e-06  ... -0.000420 -0.000380      1\n",
              "4           4 -8.000442e-08 -1.183878e-06  ...  0.002297  0.002666      1\n",
              "\n",
              "[5 rows x 202 columns]"
            ]
          },
          "metadata": {
            "tags": []
          },
          "execution_count": 4
        }
      ]
    },
    {
      "cell_type": "code",
      "metadata": {
        "id": "IyKGkBgDYJz4",
        "colab_type": "code",
        "colab": {}
      },
      "source": [
        "AF.drop('Unnamed: 0', axis=1, inplace=True)\n",
        "#AF.rename(columns={'Unnamed: 0':'ID'}, inplace=True)\n",
        "#AF['Lable']='AF'"
      ],
      "execution_count": 0,
      "outputs": []
    },
    {
      "cell_type": "code",
      "metadata": {
        "id": "hrm_S9e1W3Q9",
        "colab_type": "code",
        "outputId": "538fbc14-1ff2-4b1d-8c70-e114c4524f6a",
        "colab": {
          "base_uri": "https://localhost:8080/",
          "height": 158
        }
      },
      "source": [
        "AF.head(), AF.shape"
      ],
      "execution_count": 0,
      "outputs": [
        {
          "output_type": "execute_result",
          "data": {
            "text/plain": [
              "(              0             1         2  ...       198       199  Lable\n",
              " 0  4.360680e-08  6.410188e-07  0.000004  ... -0.000586 -0.000554      1\n",
              " 1 -9.809577e-08 -1.426375e-06 -0.000010  ... -0.000320 -0.000275      1\n",
              " 2  4.653737e-08  6.958202e-07  0.000005  ... -0.000293 -0.000261      1\n",
              " 3 -8.002395e-08 -1.164628e-06 -0.000008  ... -0.000420 -0.000380      1\n",
              " 4 -8.000442e-08 -1.183878e-06 -0.000008  ...  0.002297  0.002666      1\n",
              " \n",
              " [5 rows x 201 columns], (14972, 201))"
            ]
          },
          "metadata": {
            "tags": []
          },
          "execution_count": 6
        }
      ]
    },
    {
      "cell_type": "code",
      "metadata": {
        "id": "p4xTHxy1fYaK",
        "colab_type": "code",
        "outputId": "f4e839f3-6178-4f81-fdc7-b2bee5587b01",
        "colab": {
          "base_uri": "https://localhost:8080/",
          "height": 228
        }
      },
      "source": [
        "AF.iloc[:,1]"
      ],
      "execution_count": 0,
      "outputs": [
        {
          "output_type": "execute_result",
          "data": {
            "text/plain": [
              "0        6.410188e-07\n",
              "1       -1.426375e-06\n",
              "2        6.958202e-07\n",
              "3       -1.164628e-06\n",
              "4       -1.183878e-06\n",
              "             ...     \n",
              "14967   -1.862840e-07\n",
              "14968   -6.909301e-07\n",
              "14969    1.773731e-07\n",
              "14970   -8.734199e-07\n",
              "14971    1.863871e-06\n",
              "Name: 1, Length: 14972, dtype: float64"
            ]
          },
          "metadata": {
            "tags": []
          },
          "execution_count": 7
        }
      ]
    },
    {
      "cell_type": "code",
      "metadata": {
        "id": "LAgDlzcw2OFr",
        "colab_type": "code",
        "colab": {}
      },
      "source": [
        "AF_final=AF.iloc[0:14500,:]"
      ],
      "execution_count": 0,
      "outputs": []
    },
    {
      "cell_type": "code",
      "metadata": {
        "id": "UMV5mDAF2TL7",
        "colab_type": "code",
        "outputId": "d8dbc3e4-2d97-4a39-a576-29980299d722",
        "colab": {
          "base_uri": "https://localhost:8080/",
          "height": 158
        }
      },
      "source": [
        "AF_final.head(),AF_final.shape"
      ],
      "execution_count": 0,
      "outputs": [
        {
          "output_type": "execute_result",
          "data": {
            "text/plain": [
              "(              0             1         2  ...       198       199  Lable\n",
              " 0  4.360680e-08  6.410188e-07  0.000004  ... -0.000586 -0.000554      1\n",
              " 1 -9.809577e-08 -1.426375e-06 -0.000010  ... -0.000320 -0.000275      1\n",
              " 2  4.653737e-08  6.958202e-07  0.000005  ... -0.000293 -0.000261      1\n",
              " 3 -8.002395e-08 -1.164628e-06 -0.000008  ... -0.000420 -0.000380      1\n",
              " 4 -8.000442e-08 -1.183878e-06 -0.000008  ...  0.002297  0.002666      1\n",
              " \n",
              " [5 rows x 201 columns], (14500, 201))"
            ]
          },
          "metadata": {
            "tags": []
          },
          "execution_count": 23
        }
      ]
    },
    {
      "cell_type": "code",
      "metadata": {
        "id": "NrkGQo1RpwYQ",
        "colab_type": "code",
        "colab": {}
      },
      "source": [
        "normal=pd.read_csv('Normal_csv_48600.csv')\n",
        "#N1=pd.read_csv('Dataset_16265_sets_1149.csv')\n",
        "#N2=AF=pd.read_csv('Dataset_16265_sets_2500.csv')"
      ],
      "execution_count": 0,
      "outputs": []
    },
    {
      "cell_type": "code",
      "metadata": {
        "id": "vp5acHhCRs33",
        "colab_type": "code",
        "colab": {}
      },
      "source": [
        "normal.drop('Unnamed: 0', axis=1, inplace=True)\n",
        "#N1.drop('Unnamed: 0', axis=1, inplace=True)\n",
        "#N2.drop('Unnamed: 0', axis=1, inplace=True)"
      ],
      "execution_count": 0,
      "outputs": []
    },
    {
      "cell_type": "code",
      "metadata": {
        "id": "AvyiERF6ThmH",
        "colab_type": "code",
        "outputId": "d1b6c84e-7cee-4be0-8d07-b85ee734dee8",
        "colab": {
          "base_uri": "https://localhost:8080/",
          "height": 158
        }
      },
      "source": [
        "normal.head(),normal.shape"
      ],
      "execution_count": 0,
      "outputs": [
        {
          "output_type": "execute_result",
          "data": {
            "text/plain": [
              "(              0             1             2  ...       198       199  Lable\n",
              " 0 -9.258724e-08 -1.377041e-06 -9.609210e-06  ... -0.002655 -0.001942      0\n",
              " 1 -8.846425e-08 -1.300422e-06 -8.939689e-06  ...  0.000270  0.000335      0\n",
              " 2 -3.962878e-09 -5.825420e-08 -4.099061e-07  ... -0.000354 -0.000313      0\n",
              " 3 -9.887181e-09 -1.373355e-07 -8.690240e-07  ...  0.000308  0.000389      0\n",
              " 4 -6.748902e-08 -1.024110e-06 -7.339241e-06  ... -0.001400 -0.001010      0\n",
              " \n",
              " [5 rows x 201 columns], (48599, 201))"
            ]
          },
          "metadata": {
            "tags": []
          },
          "execution_count": 26
        }
      ]
    },
    {
      "cell_type": "code",
      "metadata": {
        "id": "Ng0fo24Sv-Yj",
        "colab_type": "code",
        "colab": {}
      },
      "source": [
        "#N1.head(),N1.shape\n",
        "#N2.head(), N2.shape\n",
        "#normal=N1.append(N2)\n",
        "#normal['Lable']='N'\n",
        "#normal.head(), normal.shape\n",
        "#normal_extd=pd.concat([normal]*3, ignore_index=True)\n",
        "#normal_extd.shape\n",
        "#normal_final=normal_extd.iloc[0:10000,:]"
      ],
      "execution_count": 0,
      "outputs": []
    },
    {
      "cell_type": "code",
      "metadata": {
        "id": "lKY0Uy6Z0iU0",
        "colab_type": "code",
        "colab": {}
      },
      "source": [
        "normal_final=normal.iloc[0:14500,:]"
      ],
      "execution_count": 0,
      "outputs": []
    },
    {
      "cell_type": "code",
      "metadata": {
        "id": "kJWmz5VB1csC",
        "colab_type": "code",
        "outputId": "dc2d22d6-bafa-471e-810a-d3d50e75c0c0",
        "colab": {
          "base_uri": "https://localhost:8080/",
          "height": 158
        }
      },
      "source": [
        "normal_final.head(), normal_final.shape"
      ],
      "execution_count": 0,
      "outputs": [
        {
          "output_type": "execute_result",
          "data": {
            "text/plain": [
              "(              0             1             2  ...       198       199  Lable\n",
              " 0 -9.258724e-08 -1.377041e-06 -9.609210e-06  ... -0.002655 -0.001942      0\n",
              " 1 -8.846425e-08 -1.300422e-06 -8.939689e-06  ...  0.000270  0.000335      0\n",
              " 2 -3.962878e-09 -5.825420e-08 -4.099061e-07  ... -0.000354 -0.000313      0\n",
              " 3 -9.887181e-09 -1.373355e-07 -8.690240e-07  ...  0.000308  0.000389      0\n",
              " 4 -6.748902e-08 -1.024110e-06 -7.339241e-06  ... -0.001400 -0.001010      0\n",
              " \n",
              " [5 rows x 201 columns], (14500, 201))"
            ]
          },
          "metadata": {
            "tags": []
          },
          "execution_count": 28
        }
      ]
    },
    {
      "cell_type": "code",
      "metadata": {
        "id": "VCB44bh21-Lz",
        "colab_type": "code",
        "colab": {}
      },
      "source": [
        "VF=pd.read_csv('VF_csv_57751.csv')"
      ],
      "execution_count": 0,
      "outputs": []
    },
    {
      "cell_type": "code",
      "metadata": {
        "id": "en6Su2W9SDaM",
        "colab_type": "code",
        "colab": {}
      },
      "source": [
        "VF.drop('Unnamed: 0', axis=1, inplace=True)"
      ],
      "execution_count": 0,
      "outputs": []
    },
    {
      "cell_type": "code",
      "metadata": {
        "id": "BmquFF1m7RAS",
        "colab_type": "code",
        "colab": {}
      },
      "source": [
        "#VF['Lable']='VF'"
      ],
      "execution_count": 0,
      "outputs": []
    },
    {
      "cell_type": "code",
      "metadata": {
        "id": "HHFlLwcR8tMj",
        "colab_type": "code",
        "outputId": "0db3a702-02cb-4dbc-8d3b-cc0bd380a29e",
        "colab": {
          "base_uri": "https://localhost:8080/",
          "height": 158
        }
      },
      "source": [
        "VF.head(), VF.shape"
      ],
      "execution_count": 0,
      "outputs": [
        {
          "output_type": "execute_result",
          "data": {
            "text/plain": [
              "(              0             1             2  ...       198       199  Lable\n",
              " 0 -3.237869e-10 -6.876113e-09 -7.149320e-08  ...  0.002340  0.002407      2\n",
              " 1  6.174944e-10  1.246987e-08  1.232952e-07  ...  0.002222  0.002386      2\n",
              " 2  5.592542e-10  1.136125e-08  1.130622e-07  ...  0.001249  0.001298      2\n",
              " 3  5.469068e-10  1.111797e-08  1.106763e-07  ... -0.000651 -0.000613      2\n",
              " 4 -1.468383e-10 -2.917256e-09 -2.833324e-08  ...  0.001857  0.001897      2\n",
              " \n",
              " [5 rows x 201 columns], (57750, 201))"
            ]
          },
          "metadata": {
            "tags": []
          },
          "execution_count": 34
        }
      ]
    },
    {
      "cell_type": "code",
      "metadata": {
        "id": "3nBawxj7BTjM",
        "colab_type": "code",
        "colab": {}
      },
      "source": [
        "VF_final=VF.iloc[0:14500,:]"
      ],
      "execution_count": 0,
      "outputs": []
    },
    {
      "cell_type": "code",
      "metadata": {
        "id": "8ZEf89uOBbmt",
        "colab_type": "code",
        "outputId": "baeae89e-de5e-4094-cb64-88babaea7c16",
        "colab": {
          "base_uri": "https://localhost:8080/",
          "height": 158
        }
      },
      "source": [
        "VF_final.head(), VF_final.shape"
      ],
      "execution_count": 0,
      "outputs": [
        {
          "output_type": "execute_result",
          "data": {
            "text/plain": [
              "(              0             1             2  ...       198       199  Lable\n",
              " 0 -3.237869e-10 -6.876113e-09 -7.149320e-08  ...  0.002340  0.002407      2\n",
              " 1  6.174944e-10  1.246987e-08  1.232952e-07  ...  0.002222  0.002386      2\n",
              " 2  5.592542e-10  1.136125e-08  1.130622e-07  ...  0.001249  0.001298      2\n",
              " 3  5.469068e-10  1.111797e-08  1.106763e-07  ... -0.000651 -0.000613      2\n",
              " 4 -1.468383e-10 -2.917256e-09 -2.833324e-08  ...  0.001857  0.001897      2\n",
              " \n",
              " [5 rows x 201 columns], (14500, 201))"
            ]
          },
          "metadata": {
            "tags": []
          },
          "execution_count": 36
        }
      ]
    },
    {
      "cell_type": "code",
      "metadata": {
        "id": "6pZp7_GkCtiv",
        "colab_type": "code",
        "colab": {}
      },
      "source": [
        "dataset=normal_final\n",
        "dataset=dataset.append(AF_final, sort=False)\n",
        "dataset=dataset.append(VF_final, sort=False)"
      ],
      "execution_count": 0,
      "outputs": []
    },
    {
      "cell_type": "code",
      "metadata": {
        "id": "r3bTNmsEDx51",
        "colab_type": "code",
        "outputId": "5d4f8e49-8cac-4c5b-b65d-5daa33a10fbb",
        "colab": {
          "base_uri": "https://localhost:8080/",
          "height": 34
        }
      },
      "source": [
        "dataset.shape"
      ],
      "execution_count": 0,
      "outputs": [
        {
          "output_type": "execute_result",
          "data": {
            "text/plain": [
              "(43500, 201)"
            ]
          },
          "metadata": {
            "tags": []
          },
          "execution_count": 73
        }
      ]
    },
    {
      "cell_type": "code",
      "metadata": {
        "id": "aFaWBb1iE92O",
        "colab_type": "code",
        "colab": {}
      },
      "source": [
        "#dataset.drop('Unnamed: 0', axis=1, inplace=True)\n",
        "#dataset.drop('ID', axis=1, inplace=True)"
      ],
      "execution_count": 0,
      "outputs": []
    },
    {
      "cell_type": "code",
      "metadata": {
        "id": "JLgLNJFwMlB6",
        "colab_type": "code",
        "outputId": "ee6c8f02-04d4-4c18-cb1a-2898c8936e61",
        "colab": {
          "base_uri": "https://localhost:8080/",
          "height": 34
        }
      },
      "source": [
        "dataset.Lable.unique()"
      ],
      "execution_count": 0,
      "outputs": [
        {
          "output_type": "execute_result",
          "data": {
            "text/plain": [
              "array([0, 1, 2])"
            ]
          },
          "metadata": {
            "tags": []
          },
          "execution_count": 75
        }
      ]
    },
    {
      "cell_type": "code",
      "metadata": {
        "id": "eYqoddZzDYN6",
        "colab_type": "code",
        "outputId": "53d193e2-5b11-45cc-ae14-753829cb9b32",
        "colab": {
          "base_uri": "https://localhost:8080/",
          "height": 228
        }
      },
      "source": [
        "dataset.iloc[:,200]"
      ],
      "execution_count": 0,
      "outputs": [
        {
          "output_type": "execute_result",
          "data": {
            "text/plain": [
              "0        0\n",
              "1        0\n",
              "2        0\n",
              "3        0\n",
              "4        0\n",
              "        ..\n",
              "14495    2\n",
              "14496    2\n",
              "14497    2\n",
              "14498    2\n",
              "14499    2\n",
              "Name: Lable, Length: 43500, dtype: int64"
            ]
          },
          "metadata": {
            "tags": []
          },
          "execution_count": 76
        }
      ]
    },
    {
      "cell_type": "code",
      "metadata": {
        "id": "tMoB-GgdAxpX",
        "colab_type": "code",
        "colab": {}
      },
      "source": [
        "#AF_Final=AF_final.values\n",
        "#NORMAL_Final=normal_final.values\n",
        "#VF_Final=VF_final.values\n",
        "\n",
        "Dataset=dataset.values"
      ],
      "execution_count": 0,
      "outputs": []
    },
    {
      "cell_type": "code",
      "metadata": {
        "id": "2h0J5EWwB0Pw",
        "colab_type": "code",
        "outputId": "06285476-e163-4f2e-b5bb-4301bb1d6f59",
        "colab": {
          "base_uri": "https://localhost:8080/",
          "height": 246
        }
      },
      "source": [
        "#AF_Final, NORMAL_Final, VF_Final\n",
        "Dataset, Dataset.shape"
      ],
      "execution_count": 0,
      "outputs": [
        {
          "output_type": "execute_result",
          "data": {
            "text/plain": [
              "(array([[-9.25872441e-08, -1.37704149e-06, -9.60921015e-06, ...,\n",
              "         -2.65492174e-03, -1.94216488e-03,  0.00000000e+00],\n",
              "        [-8.84642497e-08, -1.30042196e-06, -8.93968939e-06, ...,\n",
              "          2.70092179e-04,  3.35490175e-04,  0.00000000e+00],\n",
              "        [-3.96287815e-09, -5.82541964e-08, -4.09906064e-07, ...,\n",
              "         -3.53863385e-04, -3.12560791e-04,  0.00000000e+00],\n",
              "        ...,\n",
              "        [ 1.56276773e-11,  3.15746759e-10,  3.09847478e-09, ...,\n",
              "         -3.04340273e-04, -2.15974928e-04,  2.00000000e+00],\n",
              "        [ 1.09208066e-10,  2.23123258e-09,  2.23752191e-08, ...,\n",
              "          6.21093405e-04,  6.86054633e-04,  2.00000000e+00],\n",
              "        [ 1.39318423e-10,  2.79626792e-09,  2.74432436e-08, ...,\n",
              "          4.36727284e-04,  3.27692855e-04,  2.00000000e+00]]), (43500, 201))"
            ]
          },
          "metadata": {
            "tags": []
          },
          "execution_count": 78
        }
      ]
    },
    {
      "cell_type": "code",
      "metadata": {
        "id": "z6Y_fYNJLFAs",
        "colab_type": "code",
        "colab": {}
      },
      "source": [
        "np.random.shuffle(Dataset)\n",
        "np.random.shuffle(Dataset)\n",
        "np.random.shuffle(Dataset)"
      ],
      "execution_count": 0,
      "outputs": []
    },
    {
      "cell_type": "code",
      "metadata": {
        "id": "iG31-6ylNt5a",
        "colab_type": "code",
        "outputId": "f551107a-e5db-42b5-9a7b-fd0b3228fb8f",
        "colab": {
          "base_uri": "https://localhost:8080/",
          "height": 914
        }
      },
      "source": [
        "Dataset[12000]"
      ],
      "execution_count": 0,
      "outputs": [
        {
          "output_type": "execute_result",
          "data": {
            "text/plain": [
              "array([-5.59316120e-10, -1.12572835e-08, -1.10893049e-07, -7.13595723e-07,\n",
              "       -3.37777662e-06, -1.25545919e-05, -3.81886851e-05, -9.78078619e-05,\n",
              "       -2.15288436e-04, -4.13469666e-04, -7.00614017e-04, -1.05570910e-03,\n",
              "       -1.42153484e-03, -1.71345251e-03, -1.84489055e-03, -1.76076638e-03,\n",
              "       -1.46355438e-03, -1.01807280e-03, -5.30409334e-04, -1.08976732e-04,\n",
              "        1.75275548e-04,  3.11787092e-04,  3.46710421e-04,  3.55373082e-04,\n",
              "        4.04418692e-04,  5.21218554e-04,  6.83848534e-04,  8.34700863e-04,\n",
              "        9.09729991e-04,  8.68641969e-04,  7.11921306e-04,  4.77748815e-04,\n",
              "        2.21830920e-04, -8.93570432e-06, -1.95817396e-04, -3.51678802e-04,\n",
              "       -5.07900850e-04, -6.92468351e-04, -9.11107172e-04, -1.14145986e-03,\n",
              "       -1.34333750e-03, -1.47962731e-03, -1.53679844e-03, -1.53404236e-03,\n",
              "       -1.51588297e-03, -1.53160972e-03, -1.61171689e-03, -1.75314965e-03,\n",
              "       -1.92075506e-03, -2.06421097e-03, -2.14201615e-03, -2.14073088e-03,\n",
              "       -2.08018131e-03, -2.00241615e-03, -1.95023076e-03, -1.94606204e-03,\n",
              "       -1.98161142e-03, -2.02301931e-03, -2.02863759e-03, -1.97030802e-03,\n",
              "       -1.84753762e-03, -1.68771818e-03, -1.53261205e-03, -1.41814867e-03,\n",
              "       -1.35773578e-03, -1.33724761e-03, -1.32373167e-03, -1.28287338e-03,\n",
              "       -1.19597305e-03, -1.06776104e-03, -9.21408402e-04, -7.83898524e-04,\n",
              "       -6.69931086e-04, -5.73110561e-04, -4.69055119e-04, -3.28510843e-04,\n",
              "       -1.33174266e-04,  1.14337226e-04,  3.91457343e-04,  6.66543759e-04,\n",
              "        9.13350973e-04,  1.12132066e-03,  1.29681162e-03,  1.45575010e-03,\n",
              "        1.61278880e-03,  1.77336696e-03,  1.93258353e-03,  2.08027381e-03,\n",
              "        2.20796374e-03,  2.31268426e-03,  2.39523271e-03,  2.45456077e-03,\n",
              "        2.48284396e-03,  2.46556435e-03,  2.38773284e-03,  2.24319531e-03,\n",
              "        2.04144856e-03,  1.80720323e-03,  1.57176340e-03,  1.36001242e-03,\n",
              "        1.17965782e-03,  1.01863023e-03,  8.52418252e-04,  6.57849152e-04,\n",
              "        4.26294681e-04,  1.69460151e-04, -8.52592126e-05, -3.07446365e-04,\n",
              "       -4.77812111e-04, -5.96596373e-04, -6.82050786e-04, -7.59977527e-04,\n",
              "       -8.49835809e-04, -9.54551324e-04, -1.05912417e-03, -1.13855547e-03,\n",
              "       -1.17087420e-03, -1.14853285e-03, -1.08237185e-03, -9.96209132e-04,\n",
              "       -9.14924157e-04, -8.52242652e-04, -8.04581755e-04, -7.54165287e-04,\n",
              "       -6.79737918e-04, -5.69134847e-04, -4.26910247e-04, -2.72845255e-04,\n",
              "       -1.32084724e-04, -2.22011415e-05,  5.58688519e-05,  1.18232280e-04,\n",
              "        1.89748388e-04,  2.91653284e-04,  4.31738664e-04,  6.02088903e-04,\n",
              "        7.85121064e-04,  9.64201157e-04,  1.13283100e-03,  1.29741997e-03,\n",
              "        1.47229620e-03,  1.66987192e-03,  1.89151322e-03,  2.12431104e-03,\n",
              "        2.34579347e-03,  2.53431100e-03,  2.67965503e-03,  2.78816962e-03,\n",
              "        2.87941468e-03,  2.97588883e-03,  3.09105452e-03,  3.22191037e-03,\n",
              "        3.35006292e-03,  3.45084329e-03,  3.50578236e-03,  3.51190240e-03,\n",
              "        3.48280468e-03,  3.44073729e-03,  3.40361867e-03,  3.37387003e-03,\n",
              "        3.33524089e-03,  3.25978040e-03,  3.12174808e-03,  2.91143173e-03,\n",
              "        2.64166063e-03,  2.34344292e-03,  2.05273605e-03,  1.79495997e-03,\n",
              "        1.57506282e-03,  1.37809148e-03,  1.17976440e-03,  9.61343543e-04,\n",
              "        7.20911320e-04,  4.75148042e-04,  2.50807993e-04,  7.05721083e-05,\n",
              "       -5.90989581e-05, -1.51609379e-04, -2.33429688e-04, -3.30484736e-04,\n",
              "       -4.54976671e-04, -5.99614555e-04, -7.42166226e-04, -8.57592926e-04,\n",
              "       -9.30896064e-04, -9.63544356e-04, -9.70140356e-04, -9.67658443e-04,\n",
              "       -9.63847919e-04, -9.51776635e-04, -9.13817576e-04, -8.32841950e-04,\n",
              "       -7.04192572e-04, -5.41523241e-04, -3.72991091e-04, -2.29595271e-04,\n",
              "       -1.31707293e-04, -8.07505434e-05, -6.01393895e-05, -4.45889645e-05,\n",
              "        2.00000000e+00])"
            ]
          },
          "metadata": {
            "tags": []
          },
          "execution_count": 80
        }
      ]
    },
    {
      "cell_type": "code",
      "metadata": {
        "id": "45mjznDAM_Lf",
        "colab_type": "code",
        "colab": {}
      },
      "source": [
        "train, test1 = train_test_split(Dataset, test_size=0.3)"
      ],
      "execution_count": 0,
      "outputs": []
    },
    {
      "cell_type": "code",
      "metadata": {
        "id": "1EXvBx3lnYWu",
        "colab_type": "code",
        "outputId": "2635f5de-8a92-4c9d-c225-9490c5118894",
        "colab": {
          "base_uri": "https://localhost:8080/",
          "height": 34
        }
      },
      "source": [
        "train.shape"
      ],
      "execution_count": 0,
      "outputs": [
        {
          "output_type": "execute_result",
          "data": {
            "text/plain": [
              "(30450, 201)"
            ]
          },
          "metadata": {
            "tags": []
          },
          "execution_count": 82
        }
      ]
    },
    {
      "cell_type": "code",
      "metadata": {
        "id": "8moBntg0nZkV",
        "colab_type": "code",
        "outputId": "859484ae-9fbb-465d-c587-35eb69bd00b4",
        "colab": {
          "base_uri": "https://localhost:8080/",
          "height": 34
        }
      },
      "source": [
        "test1.shape"
      ],
      "execution_count": 0,
      "outputs": [
        {
          "output_type": "execute_result",
          "data": {
            "text/plain": [
              "(13050, 201)"
            ]
          },
          "metadata": {
            "tags": []
          },
          "execution_count": 83
        }
      ]
    },
    {
      "cell_type": "code",
      "metadata": {
        "id": "XxkiT1ZYnC4d",
        "colab_type": "code",
        "colab": {}
      },
      "source": [
        "#train.Embarked.values_counts()"
      ],
      "execution_count": 0,
      "outputs": []
    },
    {
      "cell_type": "code",
      "metadata": {
        "id": "6Fc5WUY7nfQl",
        "colab_type": "code",
        "colab": {}
      },
      "source": [
        "validation, test = train_test_split(test1, test_size=0.5)"
      ],
      "execution_count": 0,
      "outputs": []
    },
    {
      "cell_type": "code",
      "metadata": {
        "id": "G0I4pw7WnuOm",
        "colab_type": "code",
        "outputId": "80d65a3a-d08b-4bf2-debc-dc2e7617e8d7",
        "colab": {
          "base_uri": "https://localhost:8080/",
          "height": 34
        }
      },
      "source": [
        "train.shape, validation.shape, test.shape"
      ],
      "execution_count": 0,
      "outputs": [
        {
          "output_type": "execute_result",
          "data": {
            "text/plain": [
              "((30450, 201), (6525, 201), (6525, 201))"
            ]
          },
          "metadata": {
            "tags": []
          },
          "execution_count": 86
        }
      ]
    },
    {
      "cell_type": "code",
      "metadata": {
        "id": "fRTPi5O3nwwW",
        "colab_type": "code",
        "colab": {}
      },
      "source": [
        "Train = pd.DataFrame(data=train)\n",
        "Validation=pd.DataFrame(data=validation)\n",
        "Test=pd.DataFrame(data=test)"
      ],
      "execution_count": 0,
      "outputs": []
    },
    {
      "cell_type": "code",
      "metadata": {
        "id": "kdYO92lFqUPp",
        "colab_type": "code",
        "outputId": "83c17e79-afba-4a69-ae13-46073c22876e",
        "colab": {
          "base_uri": "https://localhost:8080/",
          "height": 158
        }
      },
      "source": [
        "Train.head(), Train.shape"
      ],
      "execution_count": 0,
      "outputs": [
        {
          "output_type": "execute_result",
          "data": {
            "text/plain": [
              "(            0             1             2    ...       198       199  200\n",
              " 0 -1.093257e-09 -2.207614e-08 -2.182277e-07  ...  0.002305  0.002206  2.0\n",
              " 1 -8.943364e-12 -1.559380e-10 -1.274783e-09  ...  0.000185  0.000195  2.0\n",
              " 2 -1.520304e-07 -2.234843e-06 -1.541836e-05  ...  0.007477  0.011275  0.0\n",
              " 3 -8.358070e-08 -1.212622e-06 -8.241071e-06  ...  0.000061  0.000293  0.0\n",
              " 4 -9.936568e-08 -1.468488e-06 -1.018436e-05  ... -0.000077 -0.000151  1.0\n",
              " \n",
              " [5 rows x 201 columns], (30450, 201))"
            ]
          },
          "metadata": {
            "tags": []
          },
          "execution_count": 88
        }
      ]
    },
    {
      "cell_type": "code",
      "metadata": {
        "id": "3UrAnSsMrTUK",
        "colab_type": "code",
        "outputId": "328aab45-55fd-428f-d894-c47b51756ac5",
        "colab": {
          "base_uri": "https://localhost:8080/",
          "height": 158
        }
      },
      "source": [
        "Validation.head(), Validation.shape"
      ],
      "execution_count": 0,
      "outputs": [
        {
          "output_type": "execute_result",
          "data": {
            "text/plain": [
              "(            0             1         2    ...       198       199  200\n",
              " 0 -5.058155e-08 -6.888434e-07 -0.000004  ... -0.000086 -0.000118  1.0\n",
              " 1 -1.560623e-07 -2.290205e-06 -0.000016  ... -0.000940 -0.000815  1.0\n",
              " 2  1.931403e-07  2.486901e-06  0.000014  ... -0.000228 -0.000370  0.0\n",
              " 3  4.933117e-08  6.978149e-07  0.000005  ...  0.000224  0.000216  1.0\n",
              " 4 -1.738062e-07 -2.522923e-06 -0.000017  ... -0.000371 -0.000403  0.0\n",
              " \n",
              " [5 rows x 201 columns], (6525, 201))"
            ]
          },
          "metadata": {
            "tags": []
          },
          "execution_count": 89
        }
      ]
    },
    {
      "cell_type": "code",
      "metadata": {
        "id": "V6C4753tqrDl",
        "colab_type": "code",
        "outputId": "80f9e5fc-fde0-45e4-a838-d31759095bfe",
        "colab": {
          "base_uri": "https://localhost:8080/",
          "height": 158
        }
      },
      "source": [
        "Test.head(), Test.shape"
      ],
      "execution_count": 0,
      "outputs": [
        {
          "output_type": "execute_result",
          "data": {
            "text/plain": [
              "(            0             1             2    ...       198       199  200\n",
              " 0 -1.965237e-07 -2.904522e-06 -2.012138e-05  ... -0.000041 -0.000062  1.0\n",
              " 1 -8.558216e-08 -1.250049e-06 -8.553730e-06  ... -0.000526 -0.000523  0.0\n",
              " 2  2.320942e-11  4.813092e-10  4.938072e-09  ...  0.000369  0.000281  2.0\n",
              " 3 -8.954503e-08 -1.308304e-06 -8.971642e-06  ... -0.000670 -0.000513  0.0\n",
              " 4 -1.176054e-07 -1.640732e-06 -1.061655e-05  ... -0.000127 -0.000015  0.0\n",
              " \n",
              " [5 rows x 201 columns], (6525, 201))"
            ]
          },
          "metadata": {
            "tags": []
          },
          "execution_count": 90
        }
      ]
    },
    {
      "cell_type": "code",
      "metadata": {
        "id": "DsRmI28krZ2X",
        "colab_type": "code",
        "colab": {}
      },
      "source": [
        "Train.to_csv('trainset.csv')"
      ],
      "execution_count": 0,
      "outputs": []
    },
    {
      "cell_type": "code",
      "metadata": {
        "id": "tXUhNvmjsJH1",
        "colab_type": "code",
        "colab": {}
      },
      "source": [
        "Validation.to_csv('validset.csv')"
      ],
      "execution_count": 0,
      "outputs": []
    },
    {
      "cell_type": "code",
      "metadata": {
        "id": "MozuZ4-vsKrF",
        "colab_type": "code",
        "colab": {}
      },
      "source": [
        "Test.to_csv('testset.csv')"
      ],
      "execution_count": 0,
      "outputs": []
    },
    {
      "cell_type": "code",
      "metadata": {
        "id": "VhdS5x-XuNep",
        "colab_type": "code",
        "outputId": "f06788cc-55ed-4cac-869f-499d5a4a7b0e",
        "colab": {
          "base_uri": "https://localhost:8080/",
          "height": 125
        }
      },
      "source": [
        "from google.colab import drive\n",
        "drive.mount('/content/drive')"
      ],
      "execution_count": 0,
      "outputs": [
        {
          "output_type": "stream",
          "text": [
            "Go to this URL in a browser: https://accounts.google.com/o/oauth2/auth?client_id=947318989803-6bn6qk8qdgf4n4g3pfee6491hc0brc4i.apps.googleusercontent.com&redirect_uri=urn%3aietf%3awg%3aoauth%3a2.0%3aoob&response_type=code&scope=email%20https%3a%2f%2fwww.googleapis.com%2fauth%2fdocs.test%20https%3a%2f%2fwww.googleapis.com%2fauth%2fdrive%20https%3a%2f%2fwww.googleapis.com%2fauth%2fdrive.photos.readonly%20https%3a%2f%2fwww.googleapis.com%2fauth%2fpeopleapi.readonly\n",
            "\n",
            "Enter your authorization code:\n",
            "··········\n",
            "Mounted at /content/drive\n"
          ],
          "name": "stdout"
        }
      ]
    },
    {
      "cell_type": "code",
      "metadata": {
        "id": "kMgScIjQuN-x",
        "colab_type": "code",
        "colab": {}
      },
      "source": [
        ""
      ],
      "execution_count": 0,
      "outputs": []
    }
  ]
}